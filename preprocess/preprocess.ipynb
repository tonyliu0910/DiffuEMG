{
 "cells": [
  {
   "cell_type": "code",
   "execution_count": 1,
   "metadata": {},
   "outputs": [],
   "source": [
    "import numpy as np\n",
    "import os\n",
    "import wfdb\n",
    "from tqdm import tqdm\n",
    "from scipy import signal as sig\n",
    "from util import *\n",
    "import scipy.io as sio"
   ]
  },
  {
   "cell_type": "markdown",
   "metadata": {},
   "source": [
    "## ECG"
   ]
  },
  {
   "cell_type": "code",
   "execution_count": 2,
   "metadata": {},
   "outputs": [
    {
     "name": "stdout",
     "output_type": "stream",
     "text": [
      "ECG Corpus Path: /home/tony/Bio-ASP/EMG/mit-bih-normal-sinus-rhythm-database-1.0.0\n",
      "There are 18 ECG signals\n"
     ]
    }
   ],
   "source": [
    "ECG_corpus_path = '/home/tony/Bio-ASP/EMG/mit-bih-normal-sinus-rhythm-database-1.0.0'\n",
    "ECG_save_path ='/home/tony/Bio-ASP/Data/ECG_Ch1_fs1000_bp_training'\n",
    "\n",
    "check_path(ECG_save_path)\n",
    "\n",
    "ECG_list = []\n",
    "for f in os.listdir(ECG_corpus_path):\n",
    "    f = os.path.splitext(os.path.basename(f))[0]\n",
    "    if f.isdigit():\n",
    "        ECG_list.append(f)\n",
    "\n",
    "ECG_list = sorted(list(set(ECG_list)))\n",
    "\n",
    "print(f\"ECG Corpus Path: {ECG_corpus_path}\")\n",
    "print(f\"There are {len(ECG_list)} ECG signals\")\n"
   ]
  },
  {
   "cell_type": "code",
   "execution_count": 3,
   "metadata": {},
   "outputs": [],
   "source": [
    "def read_ecg(ecg_path):\n",
    "    ecg = wfdb.rdrecord(ecg_path).__dict__.get('p_signal')[:,0] # channel 1 ECG\n",
    "    ecg_rate = 1000\n",
    "    ecg = resample(ecg,128,ecg_rate)\n",
    "    ecg = ecg.astype('float64')\n",
    "    return ecg "
   ]
  },
  {
   "cell_type": "code",
   "execution_count": 4,
   "metadata": {},
   "outputs": [],
   "source": [
    "#Filter\n",
    "b_h, a_h = sig.butter(3, 10, 'hp',fs=1000)\n",
    "b_l, a_l = sig.butter(3, 200, 'lp',fs=1000)\n",
    "\n",
    "# Segment period\n",
    "start,end = 0, 70000"
   ]
  },
  {
   "cell_type": "code",
   "execution_count": 5,
   "metadata": {},
   "outputs": [
    {
     "name": "stderr",
     "output_type": "stream",
     "text": [
      "  0%|          | 0/18 [00:00<?, ?it/s]"
     ]
    },
    {
     "name": "stderr",
     "output_type": "stream",
     "text": [
      "100%|██████████| 18/18 [03:27<00:00, 11.54s/it]\n"
     ]
    }
   ],
   "source": [
    "#read ecg file and save as npy\n",
    "for i in tqdm(range(len(ECG_list))):\n",
    "    ecg_file = read_ecg(os.path.join(ECG_corpus_path, ECG_list[i]))\n",
    "    if ecg_file.ndim>1:\n",
    "        for j in range(ecg_file.shape[1]):\n",
    "            ecg_save = sig.filtfilt(b_l,a_l,sig.filtfilt(b_h,a_h,ecg_file[start:end,j]))\n",
    "            np.save(os.path.join(ECG_save_path,os.path.join(ECG_corpus_path, ECG_list[i]).split(os.sep)[-1].split(\".\")[0]+str(j)),ecg_save)\n",
    "    else:\n",
    "        ecg_file = sig.filtfilt(b_l,a_l,sig.filtfilt(b_h,a_h,ecg_file[start:end]))\n",
    "        np.save(os.path.join(ECG_save_path,os.path.join(ECG_corpus_path, ECG_list[i]).split(os.sep)[-1].split(\".\")[0]),ecg_file)\n",
    "    "
   ]
  },
  {
   "cell_type": "markdown",
   "metadata": {},
   "source": [
    "## EMG"
   ]
  },
  {
   "cell_type": "code",
   "execution_count": 6,
   "metadata": {},
   "outputs": [],
   "source": [
    "def read_emg(emg_path,channel,restimulus=False):\n",
    "    # extract nth channel EMG, bandpass,  down-sampling, normalize\n",
    "    b, a = signal.butter(4, [20,500], 'bp',fs=2000) #bandpass = signal.butter(4, [20,500], 'bandpass',output='sos',fs=2000)\n",
    "    emg_data = sio.loadmat(emg_path)\n",
    "    y_clean = emg_data.get('emg')[:,channel-1] #channel \n",
    "    y_clean = signal.filtfilt(b,a,y_clean)[::2]\n",
    "    y_clean = y_clean/np.max(abs(y_clean))\n",
    "    y_clean = y_clean.astype('float64')\n",
    "    if restimulus:\n",
    "        y_restimulus = emg_data.get('restimulus')[::2]\n",
    "    else:\n",
    "        y_restimulus = 0\n",
    "    return y_clean, y_restimulus\n",
    "\n",
    "def get_emg_filepaths(directory,number,exercise):\n",
    "    # import n(umber) of EMG signals\n",
    "    emg_paths =[]\n",
    "    for i in range(1,number+1):\n",
    "        filename = \"DB2_s\"+str(i)+\"/S\"+str(i)+\"_E\"+str(exercise)+\"_A1.mat\"\n",
    "        emg_paths.append(os.path.join(directory, filename))\n",
    "    return emg_paths"
   ]
  },
  {
   "cell_type": "code",
   "execution_count": 7,
   "metadata": {},
   "outputs": [],
   "source": [
    "EMG_corpus_path = '/home/tony/Bio-ASP/EMG/EMG_DB2'\n",
    "exercise = 1\n",
    "channel = [2]\n",
    "EMG_data_num = 40\n",
    "cross_channel = False#True\n",
    "segment = 60 # unit: second\n",
    "points_per_seg = segment * 1000 # fs = 1000 Hz"
   ]
  },
  {
   "cell_type": "code",
   "execution_count": 8,
   "metadata": {},
   "outputs": [
    {
     "name": "stderr",
     "output_type": "stream",
     "text": [
      "  0%|          | 0/40 [00:00<?, ?it/s]"
     ]
    },
    {
     "name": "stderr",
     "output_type": "stream",
     "text": [
      "100%|██████████| 40/40 [00:44<00:00,  1.12s/it]\n"
     ]
    }
   ],
   "source": [
    "EMG_save_path = f\"/home/tony/Bio-ASP/Data/data_E{str(exercise)}_S{str(EMG_data_num)}_withSTI_seg60s_nsrd\"\n",
    "check_path(EMG_save_path)\n",
    "\n",
    "for ch in channel:\n",
    "    # if cross_channel == True:\n",
    "    #     out_path =\"./data_E\"+str(exercise)+\"_S\"+str(EMG_data_num)+\"_Ch\"+str(channel[0])+\"_\"+str(channel[1])+\"_withSTI_seg60s_nsrd\"\n",
    "    # else:\n",
    "    #     out_path =\"./data_E\"+str(exercise)+\"_S\"+str(EMG_data_num)+\"_Ch\"+str(ch)+\"_withSTI_seg60s_nsrd\"\n",
    "    \n",
    "    check_path(EMG_save_path+'/train/clean')\n",
    "    check_path(EMG_save_path+'/test/clean')\n",
    "    check_path(EMG_save_path+'/val/clean')\n",
    "\n",
    "    file_paths = get_emg_filepaths(EMG_corpus_path,EMG_data_num,exercise)\n",
    "\n",
    "    for i in tqdm(range(len(file_paths))):\n",
    "        test = False    \n",
    "        if i<24:\n",
    "            save_path = EMG_save_path+'/train/clean'\n",
    "        elif i<30:\n",
    "            save_path = EMG_save_path+'/val/clean'\n",
    "        else:    \n",
    "            save_path = EMG_save_path+'/test/clean'\n",
    "            test = True\n",
    "        emg_file,restimulus = read_emg(file_paths[i],ch,test)\n",
    "        \n",
    "        for j in range(emg_file.shape[0]//points_per_seg):\n",
    "            np.save(os.path.join(save_path,file_paths[i].split(os.sep)[-1].split(\".\")[0]+\"_ch\"+str(ch)+\"_\"+str(j)),emg_file[j*points_per_seg:(j+1)*points_per_seg])\n",
    "            if test:\n",
    "                np.save(os.path.join(save_path,file_paths[i].split(os.sep)[-1].split(\".\")[0]+\"_ch\"+str(ch)+\"_\"+str(j)+\"_sti\"),restimulus[j*points_per_seg:(j+1)*points_per_seg])"
   ]
  },
  {
   "cell_type": "markdown",
   "metadata": {},
   "source": [
    "## Mixture"
   ]
  },
  {
   "cell_type": "code",
   "execution_count": 9,
   "metadata": {},
   "outputs": [],
   "source": [
    "import math\n",
    "import csv"
   ]
  },
  {
   "cell_type": "code",
   "execution_count": null,
   "metadata": {},
   "outputs": [],
   "source": [
    "clean_paths = [os.path.join(EMG_save_path, \"train/clean\"), os.path.join(EMG_save_path, \"val/clean\")]\n",
    "noise_path = ECG_save_path\n",
    "\n",
    "exercise = 1\n",
    "channel = [2]\n",
    "# channel = [1,2]\n",
    "EMG_data_num = 40\n",
    "# noise_paths =  [\"../ECG_Ch1_fs1000_bp_training\",\"../ECG_Ch1_fs1000_bp_training\"]\n",
    "\n",
    "SNR_list = [-5,-7,-9,-11,-13,-15] # Training SNR\n",
    "num_of_copy = [10,5]\n",
    "cross_channel = False\n",
    "test = False\n",
    "normalize = False"
   ]
  },
  {
   "cell_type": "code",
   "execution_count": null,
   "metadata": {},
   "outputs": [],
   "source": [
    "def get_filepaths_withSTI(directory,ftype='.npy'):\n",
    "    file_paths = []\n",
    "    for root, directories, files in os.walk(directory):\n",
    "        for filename in files:\n",
    "            if filename[-5] !='i' and filename.endswith(ftype):\n",
    "                filepath = os.path.join(root, filename)\n",
    "                file_paths.append(filepath)  # Add it to the list.\n",
    "    return sorted(file_paths)\n",
    "\n",
    "def add_noise(clean_path, noise_path, SNR, return_info=False, normalize=False):\n",
    "    clean_rate = 1000\n",
    "    y_clean = np.load(clean_path)\n",
    "    noise_ori = np.load(noise_path)\n",
    "    \n",
    "    #if noise shorter than clean wav, extend\n",
    "    if len(noise_ori) < len(y_clean):\n",
    "        tmp = (len(y_clean) // len(noise_ori)) + 1\n",
    "        y_noise = []\n",
    "        for _ in range(tmp):\n",
    "            y_noise.extend(noise_ori)\n",
    "    else:\n",
    "        y_noise = noise_ori\n",
    "\n",
    "    # cut noise \n",
    "    start = random.randint(0,len(y_noise)-len(y_clean))\n",
    "    end = start+len(y_clean)\n",
    "    y_noise = y_noise[start:end]     \n",
    "    y_noise = np.asarray(y_noise)\n",
    "\n",
    "    y_clean_pw = np.dot(y_clean,y_clean) \n",
    "    y_noise_pw = np.dot(y_noise,y_noise) \n",
    "\n",
    "    scalar = np.sqrt(y_clean_pw/((10.0**(SNR/10.0))*y_noise_pw))\n",
    "    noise = scalar * y_noise\n",
    "    y_noisy = y_clean + noise\n",
    "    if normalize: \n",
    "        norm_scalar = np.max(abs(y_noisy))\n",
    "        y_noisy = y_noisy/norm_scalar\n",
    "\n",
    "    if return_info is False:\n",
    "        return y_noisy, clean_rate\n",
    "    else:\n",
    "        info = {}\n",
    "        info['start'] = start\n",
    "        info['end'] = end\n",
    "        info['scalar'] = scalar\n",
    "        return y_noisy, clean_rate, info\n"
   ]
  },
  {
   "cell_type": "code",
   "execution_count": null,
   "metadata": {},
   "outputs": [],
   "source": [
    "sti = True\n",
    "noisy_folder = 'noisy'\n",
    "loop_break = False\n",
    "for ch in channel:\n",
    "    if loop_break == True:\n",
    "        break\n",
    "    if cross_channel == True:\n",
    "        out_path = \"./data_E\"+str(exercise)+\"_S\"+str(EMG_data_num)+\"_Ch\"+str(channel[0])+\"_\"+str(channel[1])+\"_withSTI_seg60s_nsrd\"\n",
    "        loop_break = True\n",
    "    else:\n",
    "        out_path = \"./data_E\"+str(exercise)+\"_S\"+str(EMG_data_num)+\"_Ch\"+str(ch)+\"_withSTI_seg60s_nsrd\"\n",
    "    if test == True:\n",
    "        clean_paths =[out_path+'/test/clean']\n",
    "    else:\n",
    "        clean_paths = [out_path+'/train/clean',out_path+'/val/clean']\n",
    "\n",
    "    for i in range(len(clean_paths)):\n",
    "        clean_path = clean_paths[i]\n",
    "        noise_path = noise_paths[i]\n",
    "        Noisy_path = clean_path.replace('clean',noisy_folder)\n",
    "        root_path = clean_path.replace('clean',noisy_folder)\n",
    "        \n",
    "        check_path(Noisy_path)\n",
    "\n",
    "        clean_list = get_filepaths(clean_path) if sti is False else get_filepaths_withSTI(clean_path)\n",
    "        noise_list = get_filepaths(noise_path)\n",
    "        \n",
    "        sorted(clean_list)\n",
    "\n",
    "        for snr in SNR_list:\n",
    "                with open(root_path+str(snr)+'.csv', 'w', newline='') as csvFile:\n",
    "                    fieldNames = ['EMG','ECG','start','end','scalar']\n",
    "                    writer = csv.DictWriter(csvFile, fieldNames)\n",
    "                    writer.writeheader()\n",
    "                    for clean_emg_path in tqdm(clean_list):\n",
    "                            noise_wav_path_list = random.sample(noise_list, num_of_copy[i])\n",
    "                            for noise_ecg_path in noise_wav_path_list:\n",
    "                                y_noisy, clean_rate, info = add_noise(clean_emg_path, noise_ecg_path, snr, True, normalize)\n",
    "                                noise_name = noise_ecg_path.split(os.sep)[-1].split(\".\")[0]\n",
    "                                output_dir = Noisy_path+os.sep+str(snr)+os.sep+noise_name\n",
    "                                creat_dir(output_dir)\n",
    "                                emg_name = clean_emg_path.split(os.sep)[-1].split(\".\")[0]\n",
    "                                np.save(os.path.join(output_dir,emg_name),y_noisy)\n",
    "                                writer.writerow({'EMG':emg_name,'ECG':noise_name, 'start':info['start'], 'end':info['end'],'scalar':info['scalar']})"
   ]
  }
 ],
 "metadata": {
  "kernelspec": {
   "display_name": "Python 3 (ipykernel)",
   "language": "python",
   "name": "python3"
  },
  "orig_nbformat": 4
 },
 "nbformat": 4,
 "nbformat_minor": 2
}
